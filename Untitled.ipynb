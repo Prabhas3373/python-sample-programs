{
 "cells": [
  {
   "cell_type": "code",
   "execution_count": 1,
   "id": "220f54b9-341c-4074-80bc-8b2a798c2cf7",
   "metadata": {},
   "outputs": [
    {
     "name": "stdout",
     "output_type": "stream",
     "text": [
      "even\n"
     ]
    }
   ],
   "source": [
    "#even or odd\n",
    "a=10\n",
    "if(a%2==0):\n",
    "    print(\"even\")\n",
    "else:\n",
    "    print(\"odd\")"
   ]
  },
  {
   "cell_type": "code",
   "execution_count": 3,
   "id": "c17c70db-c9c8-4820-bab7-2e942c3539ea",
   "metadata": {},
   "outputs": [
    {
     "name": "stdout",
     "output_type": "stream",
     "text": [
      "multile of two\n"
     ]
    }
   ],
   "source": [
    "#multile\n",
    "a=2\n",
    "if(a%2==0):\n",
    "    print(\"multile of two\")\n",
    "else:\n",
    "    print(\"not multiple\")\n"
   ]
  },
  {
   "cell_type": "code",
   "execution_count": 4,
   "id": "34fc79e0-9a7c-4ea9-b9af-9e9afba26a52",
   "metadata": {},
   "outputs": [
    {
     "name": "stdout",
     "output_type": "stream",
     "text": [
      "c is greater\n"
     ]
    }
   ],
   "source": [
    "\n",
    "#greatest\n",
    "a=10\n",
    "b=20\n",
    "c=30\n",
    "if(a>b & a>c):\n",
    "    print(\"a is grater\")\n",
    "elif(b>a & b>c):\n",
    "    print(\"b is greater\")\n",
    "else:\n",
    "    print(\"c is greater\")\n",
    "    "
   ]
  },
  {
   "cell_type": "code",
   "execution_count": 8,
   "id": "587aeea3-129d-47b1-bed3-04006ae63010",
   "metadata": {},
   "outputs": [
    {
     "name": "stdout",
     "output_type": "stream",
     "text": [
      "a 15\n"
     ]
    },
    {
     "name": "stdout",
     "output_type": "stream",
     "text": [
      "3.872983346207417\n"
     ]
    }
   ],
   "source": [
    "#square root\n",
    "import math\n",
    "a=int(input(\"a\"))\n",
    "print(math.sqrt(a))"
   ]
  },
  {
   "cell_type": "code",
   "execution_count": 11,
   "id": "617e1d9b-d475-413e-a76e-e1ddba02f3b9",
   "metadata": {},
   "outputs": [
    {
     "name": "stdout",
     "output_type": "stream",
     "text": [
      "a 5\n"
     ]
    },
    {
     "name": "stdout",
     "output_type": "stream",
     "text": [
      "24\n"
     ]
    }
   ],
   "source": [
    "#factorial\n",
    "a=int(input(\"a\"))\n",
    "f=1\n",
    "for i in range(1,a+1):\n",
    "    f=f*i\n",
    "print(f)"
   ]
  },
  {
   "cell_type": "code",
   "execution_count": 34,
   "id": "190ba407-c21f-42ce-b962-17ed9132dd9a",
   "metadata": {},
   "outputs": [
    {
     "name": "stdout",
     "output_type": "stream",
     "text": [
      "a 5\n"
     ]
    },
    {
     "name": "stdout",
     "output_type": "stream",
     "text": [
      "0\n",
      "1\n",
      "1\n",
      "2\n",
      "3\n",
      "5\n"
     ]
    }
   ],
   "source": [
    "#fibonacci\n",
    "a=int(input(\"a\"))\n",
    "f=0\n",
    "s=1\n",
    "print(\"{}\\n{}\".format(f,s))\n",
    "for i in range(2,a+1):\n",
    "    t=f+s\n",
    "    print(t)    \n",
    "    f=s\n",
    "    s=t\n"
   ]
  },
  {
   "cell_type": "code",
   "execution_count": 25,
   "id": "bca3a9ad-112f-4538-9958-ec68647d61c3",
   "metadata": {},
   "outputs": [
    {
     "name": "stdout",
     "output_type": "stream",
     "text": [
      "2.8284271247461903\n"
     ]
    }
   ],
   "source": [
    "a=8\n",
    "print(a**(1/2))\n"
   ]
  },
  {
   "cell_type": "code",
   "execution_count": 32,
   "id": "89346743-0476-4391-9211-ca3d3e470929",
   "metadata": {},
   "outputs": [
    {
     "name": "stdout",
     "output_type": "stream",
     "text": [
      " 2 3 4\n"
     ]
    },
    {
     "name": "stdout",
     "output_type": "stream",
     "text": [
      "[2, 3, 4]\n"
     ]
    }
   ],
   "source": [
    "a,b,c = (map(int,input().split()))\n",
    "\n",
    "g = [a,b,c]\n",
    "print(g)"
   ]
  },
  {
   "cell_type": "code",
   "execution_count": 33,
   "id": "f61100aa-8b2d-4b35-9a53-1b5f8472f513",
   "metadata": {},
   "outputs": [
    {
     "name": "stdout",
     "output_type": "stream",
     "text": [
      "10\n"
     ]
    }
   ],
   "source": []
  },
  {
   "cell_type": "code",
   "execution_count": null,
   "id": "ae2ae84e-5400-4260-bda3-43a859b1b3de",
   "metadata": {},
   "outputs": [],
   "source": []
  }
 ],
 "metadata": {
  "kernelspec": {
   "display_name": "Python 3 (ipykernel)",
   "language": "python",
   "name": "python3"
  },
  "language_info": {
   "codemirror_mode": {
    "name": "ipython",
    "version": 3
   },
   "file_extension": ".py",
   "mimetype": "text/x-python",
   "name": "python",
   "nbconvert_exporter": "python",
   "pygments_lexer": "ipython3",
   "version": "3.12.3"
  }
 },
 "nbformat": 4,
 "nbformat_minor": 5
}
